{
 "cells": [
  {
   "cell_type": "markdown",
   "id": "349f8cf1",
   "metadata": {},
   "source": [
    "## Угадай число.\n",
    "\n",
    "##### Нужно написать программу, которая угадывает число за минимальное число попыток.\n",
    "\n",
    "### Условия соревнования\n",
    "\n",
    "* Компьютер загадывает целое число от 1 до 100, и нам его нужно угадать. Под «угадать», подразумевается «написать программу, которая угадывает число».\n",
    "* Алгоритм учитывает информацию о том, больше ли случайное число или меньше нужного нам.\n",
    "* Необходимо добиться того, чтобы программа угадывала число меньше, чем за 20 попыток."
   ]
  },
  {
   "cell_type": "code",
   "execution_count": 1,
   "id": "fc5047ff",
   "metadata": {
    "scrolled": true
   },
   "outputs": [
    {
     "name": "stdout",
     "output_type": "stream",
     "text": [
      "Загадай число от 1 до 100: 65\n",
      "Число должно быть меньше\n",
      "Загадай число от 1 до 100: 55\n",
      "Число должно быть больше\n",
      "Загадай число от 1 до 100: 60\n",
      "Число угадано! Это число = 60, за 3 попыток\n"
     ]
    }
   ],
   "source": [
    "import numpy as np\n",
    "\n",
    "number = np.random.randint (1, 101)\n",
    "count = 0\n",
    "while True:\n",
    "  count+=1\n",
    "  predict_number = int (input (\"Загадай число от 1 до 100: \"))\n",
    "\n",
    "  if predict_number > number:\n",
    "      print (\"Число должно быть меньше\")\n",
    "\n",
    "  elif predict_number < number:\n",
    "      print (\"Число должно быть больше\")\n",
    "\n",
    "  else:\n",
    "      print (f\"Число угадано! Это число = {number}, за {count} попыток\")\n",
    "      break"
   ]
  },
  {
   "cell_type": "code",
   "execution_count": 1,
   "id": "a6814165",
   "metadata": {},
   "outputs": [
    {
     "name": "stdout",
     "output_type": "stream",
     "text": [
      "Алгоритм угадывает число в среднем за:101 попыток\n"
     ]
    }
   ],
   "source": [
    "import pandas as pd\n",
    "import numpy as np\n",
    "\n",
    "def random_predict(number: int = 1) -> int:\n",
    "    \"\"\"Рандомно угадываем число\n",
    "    Args:\n",
    "        number (int, optional): Загаданное число. Defaults to 1.\n",
    "    Returns:\n",
    "        int: Число попыток\n",
    "    \"\"\"\n",
    "    count = 0\n",
    "    \n",
    "    while True:\n",
    "        count += 1\n",
    "        predict_number = np.random.randint(1, 101)  # предполагаемое число\n",
    "        if number == predict_number:\n",
    "            break  # выход из цикла если угадали\n",
    "    return(count)\n",
    "\n",
    "def score_game(random_predict) -> int:\n",
    "    \"\"\"За какое количство попыток в среднем за 1000 подходов угадывает наш алгоритм\n",
    "    Args:\n",
    "        random_predict ([type]): функция угадывания\n",
    "    Returns:\n",
    "        int: среднее количество попыток\n",
    "    \"\"\"\n",
    "    count_ls = [] \n",
    "    np.random.seed(1) # фиксируем сид для воспроизводимости\n",
    "    random_array = np.random.randint(1, 101, size=(1000))  # загадали список чисел\n",
    "    \n",
    "    for number in random_array:\n",
    "        count_ls.append(random_predict(number))\n",
    "    \n",
    "    score = int(np.mean(count_ls))\n",
    "    print(f\"Алгоритм угадывает число в среднем за:{score} попыток\")\n",
    "    return(score)\n",
    "\n",
    "if __name__ == \"__main__\":\n",
    "    # RUN\n",
    "    score_game(random_predict)"
   ]
  },
  {
   "cell_type": "code",
   "execution_count": null,
   "id": "89727f23",
   "metadata": {},
   "outputs": [],
   "source": []
  },
  {
   "cell_type": "code",
   "execution_count": 3,
   "id": "55595cc1",
   "metadata": {},
   "outputs": [
    {
     "name": "stdout",
     "output_type": "stream",
     "text": [
      "50 1 101 86\n",
      "50 1 86 61\n",
      "50 1 61 37\n",
      "50 37 61 40\n",
      "50 40 61 50\n"
     ]
    },
    {
     "data": {
      "text/plain": [
       "5"
      ]
     },
     "execution_count": 3,
     "metadata": {},
     "output_type": "execute_result"
    }
   ],
   "source": [
    "import numpy as np\n",
    "from numpy import random\n",
    "def game_core_v2(number: int = 1) -> int:\n",
    "    \"\"\"Сначала устанавливаем любое random число, а потом уменьшаем\n",
    "    или увеличиваем его в зависимости от того, больше оно или меньше нужного.\n",
    "       Функция принимает загаданное число и возвращает число попыток arrow_up в readme\n",
    "       \n",
    "    Args:\n",
    "        number (int, optional): Загаданное число. Defaults to 1.\n",
    "\n",
    "    Returns:\n",
    "        int: Число попыток\n",
    "    \"\"\"\n",
    "    count = 0\n",
    "    limit_a = 1\n",
    "    limit_b = 101\n",
    "    predict = np.random.randint(1, 101)\n",
    "    \n",
    "    while number != predict:  \n",
    "        count += 1\n",
    "        predict = np.random.randint(limit_a, limit_b)\n",
    "        print(number, limit_a, limit_b, predict)\n",
    "\n",
    "        if number < predict:\n",
    "            limit_b = predict\n",
    "                       \n",
    "        elif number > predict:\n",
    "            limit_a = predict\n",
    "    \n",
    "    return count\n",
    "\n",
    "game_core_v2(50)"
   ]
  },
  {
   "cell_type": "code",
   "execution_count": null,
   "id": "6afd0431",
   "metadata": {},
   "outputs": [],
   "source": []
  }
 ],
 "metadata": {
  "kernelspec": {
   "display_name": "Python 3 (ipykernel)",
   "language": "python",
   "name": "python3"
  },
  "language_info": {
   "codemirror_mode": {
    "name": "ipython",
    "version": 3
   },
   "file_extension": ".py",
   "mimetype": "text/x-python",
   "name": "python",
   "nbconvert_exporter": "python",
   "pygments_lexer": "ipython3",
   "version": "3.9.7"
  }
 },
 "nbformat": 4,
 "nbformat_minor": 5
}
